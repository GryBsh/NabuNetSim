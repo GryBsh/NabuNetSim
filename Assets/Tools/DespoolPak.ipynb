{
 "cells": [
  {
   "cell_type": "code",
   "execution_count": null,
   "metadata": {},
   "outputs": [],
   "source": [
    "import os\n",
    "import sys\n",
    "\n",
    "\n",
    "dataLength = 991\n",
    "headerLength = 16\n",
    "footerLength = 2\n",
    "packetDataSize = headerLength + dataLength + footerLength\n",
    "\n",
    "#for c in range(1, 3):\n",
    "FOLDER=f\"../PAKs/dj\"\n",
    "OUTPUTFOLDER=f\"../PAKs/dj/raw\"\n",
    "try:\n",
    "    os.mkdir(OUTPUTFOLDER)\n",
    "except FileExistsError:\n",
    "    pass\n",
    "\n",
    "for i in range(1, 0x300):\n",
    "    segnum = \"{0:06X}\".format(i)\n",
    "    infile = f\"{FOLDER}/{segnum}.pak\"\n",
    "    try:\n",
    "        with open(infile, \"rb\") as fh:\n",
    "            outfile = f\"{OUTPUTFOLDER}/{segnum}.nabu\"\n",
    "            size = os.path.getsize(infile)\n",
    "            try:\n",
    "                os.remove(outfile)\n",
    "            except:\n",
    "                pass\n",
    "\n",
    "            with open(outfile, \"ab\") as outf:\n",
    "                for s in range(0, 1000):\n",
    "                    shouldBreak = False\n",
    "                    length = dataLength\n",
    "                    offset = (2*(s+1)) + (s*packetDataSize)\n",
    "                    if ((offset + packetDataSize) > size):\n",
    "                        length = (size - footerLength) - (offset + 16)\n",
    "                        shouldBreak = True\n",
    "\n",
    "                    fh.seek(offset+headerLength)\n",
    "                    data = fh.read(length)\n",
    "                    outf.write(data)\n",
    "                    print(f\"{infile} -> {outfile} {s} offset: {offset} length: {length}\")\n",
    "\n",
    "                    if shouldBreak:\n",
    "                        break\n",
    "    except:\n",
    "        pass"
   ]
  }
 ],
 "metadata": {
  "kernelspec": {
   "display_name": "Python 3.10.2 64-bit",
   "language": "python",
   "name": "python3"
  },
  "language_info": {
   "codemirror_mode": {
    "name": "ipython",
    "version": 3
   },
   "file_extension": ".py",
   "mimetype": "text/x-python",
   "name": "python",
   "nbconvert_exporter": "python",
   "pygments_lexer": "ipython3",
   "version": "3.10.2"
  },
  "orig_nbformat": 4,
  "vscode": {
   "interpreter": {
    "hash": "96d677151c4295cc35de45e3b3b3c44b4ce9baeecbdf059b9646133b5bf4b15d"
   }
  }
 },
 "nbformat": 4,
 "nbformat_minor": 2
}
