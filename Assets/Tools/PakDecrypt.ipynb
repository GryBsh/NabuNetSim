{
 "cells": [
  {
   "cell_type": "code",
   "execution_count": 9,
   "metadata": {},
   "outputs": [
    {
     "name": "stdout",
     "output_type": "stream",
     "text": [
      "../PAKs/cycle1 -> ../PAKs/cycle1/decrypted\n",
      "../PAKs/cycle2 -> ../PAKs/cycle2/decrypted\n"
     ]
    }
   ],
   "source": [
    "import os\n",
    "import sys\n",
    "import hashlib\n",
    "\n",
    "from Crypto.Cipher import DES\n",
    "from Crypto.Util import Padding\n",
    "\n",
    "DESKEY=bytes((0x6e, 0x58, 0x61, 0x32, 0x62, 0x79, 0x75, 0x7a))\n",
    "DESIV=bytes((0x0c, 0x15, 0x2b, 0x11, 0x39, 0x23, 0x43, 0x1b))\n",
    "\n",
    "for c in range(1, 3):\n",
    "    INPUTFOLDER=f\"../PAKs/cycle{c}\"\n",
    "    OUTPUTFOLDER=f\"../PAKs/cycle{c}/decrypted\"\n",
    "    print(f\"{INPUTFOLDER} -> {OUTPUTFOLDER}\")\n",
    "    try:\n",
    "        os.mkdir(OUTPUTFOLDER)\n",
    "    except FileExistsError:\n",
    "        pass\n",
    "\n",
    "    for i in range(1, 0x300):\n",
    "        segnum = \"{0:06X}\".format(i)\n",
    "        hashstr = hashlib.md5((segnum + \"nabu\").encode('utf-8')).hexdigest().upper()\n",
    "        hashstr = \"-\".join([hashstr[i:i+2] for i in range(0, len(hashstr), 2)])\n",
    "        try:\n",
    "            with open(f\"{INPUTFOLDER}/{hashstr}.npak\", \"rb\") as fh:\n",
    "                with open(f\"{OUTPUTFOLDER}/{segnum}.pak\", \"wb\") as outf:\n",
    "                    cipher = DES.new(DESKEY, DES.MODE_CBC, iv=DESIV)\n",
    "                    data = cipher.decrypt(fh.read())\n",
    "                    data = Padding.unpad(data, 8)\n",
    "                    print(segnum + \": \" + str(len(data)) + \" bytes\")\n",
    "                    outf.write(data)\n",
    "        except FileNotFoundError:\n",
    "            pass"
   ]
  }
 ],
 "metadata": {
  "kernelspec": {
   "display_name": "Python 3.10.2 64-bit",
   "language": "python",
   "name": "python3"
  },
  "language_info": {
   "codemirror_mode": {
    "name": "ipython",
    "version": 3
   },
   "file_extension": ".py",
   "mimetype": "text/x-python",
   "name": "python",
   "nbconvert_exporter": "python",
   "pygments_lexer": "ipython3",
   "version": "3.10.2"
  },
  "orig_nbformat": 4,
  "vscode": {
   "interpreter": {
    "hash": "96d677151c4295cc35de45e3b3b3c44b4ce9baeecbdf059b9646133b5bf4b15d"
   }
  }
 },
 "nbformat": 4,
 "nbformat_minor": 2
}
