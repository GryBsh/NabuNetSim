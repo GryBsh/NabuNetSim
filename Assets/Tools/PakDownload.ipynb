{
 "cells": [
  {
   "cell_type": "code",
   "execution_count": null,
   "metadata": {},
   "outputs": [],
   "source": [
    "import os\n",
    "import sys\n",
    "import hashlib\n",
    "import requests\n",
    "\n",
    "OUTPUTFOLDER=f\"../PAKs/dj\"\n",
    "try:\n",
    "    os.mkdir(OUTPUTFOLDER)\n",
    "except FileExistsError:\n",
    "    pass\n",
    "for i in range(1, 0x300):\n",
    "    segnum = \"{0:06X}\".format(i)\n",
    "    try:\n",
    "        print(f\"Try: Download {segnum}\")\n",
    "        fileName = f\"{OUTPUTFOLDER}/{segnum}.nabu\"\n",
    "        resp = requests.get(f\"https://cloud.nabu.ca/cycle DJ raw/{segnum}.pak\")\n",
    "        if resp.status_code == 200:\n",
    "            print(f\"Save: {segnum} to {fileName}\")\n",
    "            with open(fileName, \"wb\") as f:\n",
    "                f.write(resp.content)\n",
    "\n",
    "    except requests.exceptions.ConnectionError:\n",
    "        pass\n",
    "\n"
   ]
  }
 ],
 "metadata": {
  "kernelspec": {
   "display_name": "Python 3.10.2 64-bit",
   "language": "python",
   "name": "python3"
  },
  "language_info": {
   "codemirror_mode": {
    "name": "ipython",
    "version": 3
   },
   "file_extension": ".py",
   "mimetype": "text/x-python",
   "name": "python",
   "nbconvert_exporter": "python",
   "pygments_lexer": "ipython3",
   "version": "3.10.2"
  },
  "orig_nbformat": 4,
  "vscode": {
   "interpreter": {
    "hash": "96d677151c4295cc35de45e3b3b3c44b4ce9baeecbdf059b9646133b5bf4b15d"
   }
  }
 },
 "nbformat": 4,
 "nbformat_minor": 2
}
