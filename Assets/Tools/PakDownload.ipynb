{
 "cells": [
  {
   "cell_type": "code",
   "execution_count": null,
   "metadata": {},
   "outputs": [],
   "source": [
    "import sys\n",
    "import hashlib\n",
    "import requests\n",
    "\n",
    "for c in range(1,2):\n",
    "    OUTPUTFOLDER=f\"../PAKs/cycle{c}\"\n",
    "    for i in range(1, 0x300):\n",
    "        segnum = \"{0:06X}\".format(i)\n",
    "        hashstr = hashlib.md5((segnum + \"nabu\").encode('utf-8')).hexdigest().upper()\n",
    "        hashstr = \"-\".join([hashstr[i:i+2] for i in range(0, len(hashstr), 2)])\n",
    "        try:\n",
    "            print(f\"Try: Download {segnum} [{hashstr}]\")\n",
    "            fileName = f\"{OUTPUTFOLDER}/{hashstr}.npak\"\n",
    "            resp = requests.get(f\"https://cloud.nabu.ca/cycle{c}/{hashstr}.npak\")\n",
    "            if resp.status_code == 200:\n",
    "                print(f\"Save: {segnum} to {fileName}\")\n",
    "                with open(fileName, \"wb\") as f:\n",
    "                    f.write(resp.content)\n",
    "\n",
    "        except requests.exceptions.ConnectionError:\n",
    "            pass\n",
    "\n"
   ]
  }
 ],
 "metadata": {
  "kernelspec": {
   "display_name": "Python 3.10.2 64-bit",
   "language": "python",
   "name": "python3"
  },
  "language_info": {
   "codemirror_mode": {
    "name": "ipython",
    "version": 3
   },
   "file_extension": ".py",
   "mimetype": "text/x-python",
   "name": "python",
   "nbconvert_exporter": "python",
   "pygments_lexer": "ipython3",
   "version": "3.10.2"
  },
  "orig_nbformat": 4,
  "vscode": {
   "interpreter": {
    "hash": "96d677151c4295cc35de45e3b3b3c44b4ce9baeecbdf059b9646133b5bf4b15d"
   }
  }
 },
 "nbformat": 4,
 "nbformat_minor": 2
}
