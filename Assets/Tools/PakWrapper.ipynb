{
 "cells": [
  {
   "cell_type": "code",
   "execution_count": 1,
   "metadata": {},
   "outputs": [
    {
     "name": "stdout",
     "output_type": "stream",
     "text": [
      "Boot: D500 (213) Start: 9E95 (38540) End: 77B0 (45388)\n",
      "DONE\n"
     ]
    }
   ],
   "source": [
    "import os\n",
    "import sys\n",
    "\n",
    "INPUTFOLDER=\"../PAKs/cycle2/raw\"\n",
    "OUTPUTFOLDER=\"../PAKs/cycle2/ex-double-plus\"\n",
    "\n",
    "try:\n",
    "    os.mkdir(OUTPUTFOLDER)\n",
    "except FileExistsError:\n",
    "    pass\n",
    "\n",
    "\n",
    "menu_file=f\"{INPUTFOLDER}/000001.nabu\"\n",
    "\n",
    "with open(menu_file, \"rb\") as f:\n",
    "    menu = bytearray(f.read())\n",
    "    b_start = ''.join(f\"{i:02X}\" for i in menu[0x00:0x02])\n",
    "    start = int.from_bytes(menu[0x00:0x02], byteorder='little')\n",
    "    \n",
    "    b_end = ''.join(f\"{i:02X}\" for i in menu[start:start+2])\n",
    "    end = int.from_bytes(menu[start:start+2], byteorder='little')+start\n",
    "    \n",
    "    b_offset = ''.join(f\"{i:02X}\" for i in menu[start+10:start+12])\n",
    "    offset = int.from_bytes(menu[start+10:start+12], byteorder='little')+start+0x19\n",
    "\n",
    "    print(f\"Boot: {b_start} ({start}) Start: {b_offset} ({offset}) End: {b_end} ({end})\")\n",
    "\n",
    "    \n",
    "\n",
    "    for fn in os.listdir(INPUTFOLDER):\n",
    "        #print(f\"{x}\")\n",
    "        \n",
    "        \n",
    "        filename = f\"{INPUTFOLDER}/{fn}\"\n",
    "        if (filename == menu_file):\n",
    "            continue\n",
    "\n",
    "\n",
    "        outFilename = f\"{OUTPUTFOLDER}/{fn}\"\n",
    "        \n",
    "        #print(F\"{filename} -> {outFilename}\")\n",
    "        newProgram = bytearray(menu)\n",
    "        writeStart = start+12\n",
    "        readStart = 8\n",
    "        \n",
    "        try:\n",
    "            with open(filename, \"rb\") as inFile:\n",
    "                length = os.path.getsize(filename)-readStart\n",
    "                programFile = inFile.read()\n",
    " \n",
    "                for i in range(0, length):\n",
    "                    #print(f\"Write: {writeStart+i} Read: {readStart+i}\")\n",
    "                    newProgram[writeStart+i] = programFile[readStart+i]\n",
    "            with open(outFilename, \"wb\") as outFile:\n",
    "                outFile.write(newProgram)\n",
    "        except:\n",
    "            pass\n",
    "\n",
    "    print(\"DONE\")\n",
    "    \n",
    "\n",
    "    "
   ]
  }
 ],
 "metadata": {
  "kernelspec": {
   "display_name": "Python 3.10.2 64-bit",
   "language": "python",
   "name": "python3"
  },
  "language_info": {
   "codemirror_mode": {
    "name": "ipython",
    "version": 3
   },
   "file_extension": ".py",
   "mimetype": "text/x-python",
   "name": "python",
   "nbconvert_exporter": "python",
   "pygments_lexer": "ipython3",
   "version": "3.10.2"
  },
  "orig_nbformat": 4,
  "vscode": {
   "interpreter": {
    "hash": "96d677151c4295cc35de45e3b3b3c44b4ce9baeecbdf059b9646133b5bf4b15d"
   }
  }
 },
 "nbformat": 4,
 "nbformat_minor": 2
}
