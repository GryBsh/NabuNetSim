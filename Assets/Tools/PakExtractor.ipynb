{
 "cells": [
  {
   "cell_type": "code",
   "execution_count": null,
   "metadata": {},
   "outputs": [],
   "source": [
    "import os\n",
    "import sys\n",
    "\n",
    "INPUTFOLDER=\"../PAKs/cycle2/raw\"\n",
    "OUTPUTFOLDER=\"../PAKs/cycle2/extracted\"\n",
    "\n",
    "try:\n",
    "    os.mkdir(OUTPUTFOLDER)\n",
    "except FileExistsError:\n",
    "    pass\n",
    "\n",
    "\n",
    "menu=f\"../program-template.nabu\"\n",
    "list=\"../program-list.csv\"\n",
    "with open(menu, \"rb\") as f:\n",
    "    menu = bytearray(f.read())\n",
    "    with open(list, \"rt\") as list:\n",
    "        for x in range(0,0x300):\n",
    "        #for line in list:    \n",
    "            #file, name = line.split(\",\")\n",
    "            #file = file.strip()\n",
    "            #name = name.strip()\n",
    "            file = \"{0:06X}\".format(x)\n",
    "            name = \"{0:06X}\".format(x)\n",
    "\n",
    "            filename = f\"{INPUTFOLDER}/{file}.nabu\"\n",
    "            outFilename = f\"{OUTPUTFOLDER}/{name}.nabu\"\n",
    "            print(F\"{filename} -> {outFilename}\")\n",
    "            newProgram = bytearray(menu)\n",
    "            writeStart = 0xE1\n",
    "            readStart = 0x08\n",
    "            \n",
    "            try:\n",
    "                with open(filename, \"rb\") as inFile:\n",
    "                    length = os.path.getsize(filename)-readStart\n",
    "                    programFile = inFile.read()\n",
    "                    print(f\"{filename} {name}\")    \n",
    "                    for i in range(0, length):\n",
    "                        #print(f\"Write: {writeStart+i} Read: {readStart+i}\")\n",
    "                        newProgram[writeStart+i] = programFile[readStart+i]\n",
    "                with open(outFilename, \"wb\") as outFile:\n",
    "                    outFile.write(newProgram)\n",
    "            except:\n",
    "                pass\n",
    "\n",
    "\n",
    "\n",
    "\n",
    "    \n",
    "\n",
    "    "
   ]
  }
 ],
 "metadata": {
  "kernelspec": {
   "display_name": "Python 3.10.2 64-bit",
   "language": "python",
   "name": "python3"
  },
  "language_info": {
   "codemirror_mode": {
    "name": "ipython",
    "version": 3
   },
   "file_extension": ".py",
   "mimetype": "text/x-python",
   "name": "python",
   "nbconvert_exporter": "python",
   "pygments_lexer": "ipython3",
   "version": "3.10.2"
  },
  "orig_nbformat": 4,
  "vscode": {
   "interpreter": {
    "hash": "96d677151c4295cc35de45e3b3b3c44b4ce9baeecbdf059b9646133b5bf4b15d"
   }
  }
 },
 "nbformat": 4,
 "nbformat_minor": 2
}
